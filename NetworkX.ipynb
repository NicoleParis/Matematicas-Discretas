{
 "cells": [
  {
   "cell_type": "markdown",
   "id": "f8c4d2ab",
   "metadata": {},
   "source": [
    "![logonetworkx](https://networkx.org/_static/networkx_logo.svg)\n"
   ]
  },
  {
   "cell_type": "code",
   "execution_count": 5,
   "id": "33c441cb",
   "metadata": {},
   "outputs": [],
   "source": [
    "import networkx as nx"
   ]
  },
  {
   "cell_type": "markdown",
   "id": "5459d711",
   "metadata": {},
   "source": [
    "## Creacion de un grafo\n",
    "\n",
    "Por definición, Graph es una colección de **nodos** o también llamados **vértices** junto con pares identificados de nodos (denominados **aristas**, arcos, vínculos, enlaces, etc.).\n",
    "\n",
    "En NetworkX, los nodos pueden ser cualquier objeto hashable, por ejemplo, una cadena de texto, una imagen, un objeto XML, otro Graph, un objeto de nodo personalizado, etc.\n",
    "\n",
    "Para crear un grafo vacío sin nodos ni aristas, utilizamos la siguiente instrucción: G = nx.Graph()\n",
    "\n"
   ]
  },
  {
   "cell_type": "code",
   "execution_count": 6,
   "id": "7fa23c88",
   "metadata": {},
   "outputs": [],
   "source": [
    "G = nx.Graph()"
   ]
  },
  {
   "cell_type": "markdown",
   "id": "894da67c",
   "metadata": {},
   "source": [
    "## Nodos\n",
    "\n",
    "El grafo se puede crear de varias maneras. NetworkX incluye muchas funciones e instalaciones del generador de grafos para leer y escribir grafos en muchos formatos. Para empezar, veremos manipulaciones simples.\n",
    "\n",
    "Puede agregar un nodo a la vez o agregar nodos desde cualquier contenedor iterable, como una lista.\n",
    "\n",
    "Para agregar nodos uno a la vez, utilizamos la siguiente instrucción:"
   ]
  },
  {
   "cell_type": "code",
   "execution_count": null,
   "id": "aa7e0ce0",
   "metadata": {},
   "outputs": [],
   "source": [
    "G.add_node(1)\n",
    "G.add_node(2)\n",
    "G.add_node(3)\n",
    "G.add_node(4)\n",
    "G.add_node(5)\n",
    "\n",
    "Tambien podemos agregar nodos desde una lista con la siguiente instrucción:"
   ]
  },
  {
   "cell_type": "code",
   "execution_count": 10,
   "id": "dfe8d514",
   "metadata": {},
   "outputs": [],
   "source": [
    "G.add_nodes_from([6,7,8,9,10])"
   ]
  },
  {
   "cell_type": "code",
   "execution_count": null,
   "id": "494b24c3",
   "metadata": {},
   "outputs": [],
   "source": [
    "nodos = [11,12,13,14,15]\n",
    "\n",
    "\n",
    "\n",
    "Además, podemos agregar nodos junto con atributos de nodo si el contenedor produce 2 tuplas del formulario\n",
    "(node, node_attribute_dict)."
   ]
  },
  {
   "cell_type": "code",
   "execution_count": null,
   "id": "49d43043",
   "metadata": {},
   "outputs": [],
   "source": [
    "Otra utilidad importante de agregar nodos a un grafo es que podemos incorporar otro grafo completo como si fuera un nodo."
   ]
  },
  {
   "cell_type": "code",
   "execution_count": null,
   "id": "24124d19",
   "metadata": {},
   "outputs": [],
   "source": []
  },
  {
   "cell_type": "code",
   "execution_count": null,
   "id": "01b876f4",
   "metadata": {},
   "outputs": [],
   "source": []
  },
  {
   "cell_type": "code",
   "execution_count": null,
   "id": "806468b5",
   "metadata": {},
   "outputs": [],
   "source": [
    "Ahora, el grafo **H** se contiene como un nodo en el grafo **G**.\n",
    "Esta flexibilidad es muy potente, ya que permite grafos de grafos, grafos de archivos, grafos de funciones y mucho más. \n",
    "Vale la pena pensar en cómo estructurar la aplicación para que los nodos sean entidades útiles. \n",
    "Por supuesto, siempre puede usar un identificador único y tener un diccionario independiente con clave por identificador a la información del nodo si lo prefiere."
   ]
  },
  {
   "cell_type": "code",
   "execution_count": null,
   "id": "fa3c437e",
   "metadata": {},
   "outputs": [],
   "source": [
    "H = nx.Graph()\n",
    "H.add_node()"
   ]
  },
  {
   "cell_type": "markdown",
   "id": "14022635",
   "metadata": {},
   "source": [
    "## Aristas\n",
    "\n",
    "Asi como los nodos, tambien podemos agregar edges (aristas, enlaces, arcos) de forma individual o en listas"
   ]
  },
  {
   "cell_type": "code",
   "execution_count": 28,
   "id": "422d17aa",
   "metadata": {},
   "outputs": [],
   "source": [
    "G.add_edge(1, 2)\n",
    "G.add_edge(1, 3)\n",
    "G.add_edge(1, 4)\n",
    "G.add_edge(1, 5)\n",
    "\n",
    "G.add_edge(5, 6)\n",
    "G.add_edge(5, 7)\n",
    "G.add_edge(5, 8)\n",
    "G.add_edge(5, 9)"
   ]
  },
  {
   "cell_type": "code",
   "execution_count": 33,
   "id": "c2a26e44",
   "metadata": {},
   "outputs": [],
   "source": [
    "e = (2, 3)\n",
    "G.add_edge(*e) # unpack edge tuple*"
   ]
  },
  {
   "cell_type": "code",
   "execution_count": 34,
   "id": "e7f5838c",
   "metadata": {},
   "outputs": [
    {
     "ename": "AttributeError",
     "evalue": "'Graph' object has no attribute 'add_edge_from'",
     "output_type": "error",
     "traceback": [
      "\u001b[1;31m---------------------------------------------------------------------------\u001b[0m",
      "\u001b[1;31mAttributeError\u001b[0m                            Traceback (most recent call last)",
      "Cell \u001b[1;32mIn[34], line 1\u001b[0m\n\u001b[1;32m----> 1\u001b[0m G\u001b[38;5;241m.\u001b[39madd_edge_from([(\u001b[38;5;241m9\u001b[39m, \u001b[38;5;241m10\u001b[39m), (\u001b[38;5;241m9\u001b[39m, \u001b[38;5;241m11\u001b[39m), (\u001b[38;5;241m9\u001b[39m, \u001b[38;5;241m12\u001b[39m), (\u001b[38;5;241m9\u001b[39m, \u001b[38;5;241m13\u001b[39m)])\n",
      "\u001b[1;31mAttributeError\u001b[0m: 'Graph' object has no attribute 'add_edge_from'"
     ]
    }
   ],
   "source": [
    "G.add_edge_from([(9, 10), (9, 11), (9, 12), (9, 13)])"
   ]
  },
  {
   "cell_type": "markdown",
   "id": "7f34363f",
   "metadata": {},
   "source": [
    "## Dibujando el grafo "
   ]
  },
  {
   "cell_type": "code",
   "execution_count": 38,
   "id": "677fefcb",
   "metadata": {},
   "outputs": [
    {
     "data": {
      "image/png": "[encoded data removed]",
      "text/plain": [
       "<Figure size 640x480 with 1 Axes>"
      ]
     },
     "metadata": {},
     "output_type": "display_data"
    }
   ],
   "source": [
    "nx.draw(G)"
   ]
  },
  {
   "cell_type": "markdown",
   "id": "6ffe2595",
   "metadata": {},
   "source": [
    "## Información de un grafo \n",
    "\n",
    "Para contar los nodos de un grafo utilizamos la siguiente instrucción"
   ]
  },
  {
   "cell_type": "code",
   "execution_count": null,
   "id": "0027487d",
   "metadata": {},
   "outputs": [],
   "source": []
  },
  {
   "cell_type": "code",
   "execution_count": null,
   "id": "2add2e4f",
   "metadata": {},
   "outputs": [],
   "source": []
  },
  {
   "cell_type": "markdown",
   "id": "2fe63cee",
   "metadata": {},
   "source": [
    "## Examinando los elementos de un grafo\n",
    "\n",
    "Podemos examinar los nodos y los aristas. En Networkx existen cuatro propiedades básicas para facilitar la notificación de los grafos:\n",
    "<ul>\n",
    "<li>G.nodes\n",
    "<li>G.edges\n",
    "<li>G.adj\n",
    "<li>G.neighbors\n",
    "<li>G.degree\n",
    "</ul>\n",
    "Estas son vistas en forma de conjunto de los nodos, bordes, vecinos (adyacencias) y grados de nodos en un grafo.\n",
    "\n"
   ]
  },
  {
   "cell_type": "code",
   "execution_count": 31,
   "id": "89d65cc7",
   "metadata": {},
   "outputs": [
    {
     "data": {
      "text/plain": [
       "[6, 7, 8, 9, 10, 1, 2, 3, 4, 5]"
      ]
     },
     "execution_count": 31,
     "metadata": {},
     "output_type": "execute_result"
    }
   ],
   "source": [
    "list(G.nodes())"
   ]
  },
  {
   "cell_type": "code",
   "execution_count": 30,
   "id": "f0a138da",
   "metadata": {},
   "outputs": [
    {
     "data": {
      "text/plain": [
       "[(6, 5), (7, 5), (8, 5), (9, 5), (1, 2), (1, 3), (1, 4), (1, 5)]"
      ]
     },
     "execution_count": 30,
     "metadata": {},
     "output_type": "execute_result"
    }
   ],
   "source": [
    "list(G.edges())"
   ]
  },
  {
   "cell_type": "markdown",
   "id": "8e01f89d",
   "metadata": {},
   "source": [
    "### ¿Quienes son los vecinos o nodos que estan conectados con el nodo 1?"
   ]
  },
  {
   "cell_type": "code",
   "execution_count": 32,
   "id": "bf8bf211",
   "metadata": {},
   "outputs": [
    {
     "data": {
      "text/plain": [
       "[1]"
      ]
     },
     "execution_count": 32,
     "metadata": {},
     "output_type": "execute_result"
    }
   ],
   "source": [
    "list(G.adj[2])"
   ]
  },
  {
   "cell_type": "code",
   "execution_count": null,
   "id": "f6b48b63",
   "metadata": {},
   "outputs": [],
   "source": [
    "list(G.neighbor)"
   ]
  },
  {
   "cell_type": "markdown",
   "id": "dd8c9dd6",
   "metadata": {},
   "source": [
    "## Ejercicio \n",
    "\n",
    "Crea tu arbol genealógico"
   ]
  },
  {
   "cell_type": "code",
   "execution_count": 41,
   "id": "09c8699a",
   "metadata": {},
   "outputs": [],
   "source": [
    "G.clear()\n",
    "G.add_node(\"Nicole\")\n",
    "\n",
    "# padres\n",
    "G.add_node(\"Gladys\")\n",
    "G.add_node(\"Jose Luis\")\n",
    "G.add_edge(\"Nicole\", \"Gladys\")\n",
    "G.add_edge(\"Nicole\", \"Jose Luis\")\n",
    "\n",
    "#abuelos\n",
    "G.add_node(\"Fabian\")\n",
    "G.add_node(\"Nelly\")\n",
    "G.add_node(\"Lidia\")\n",
    "G.add_edge(\"Gladys\", \"Fabian\")\n",
    "G.add_edge(\"Gladys\", \"Nelly\")\n",
    "G.add_edge(\"Jose Luis\", \"Lidia\")\n",
    "\n",
    "#hermanos\n",
    "G.add_node(\"Cristo\")\n",
    "G.add_node(\"Grecia\")"
   ]
  },
  {
   "cell_type": "code",
   "execution_count": 43,
   "id": "456664f8",
   "metadata": {},
   "outputs": [
    {
     "data": {
      "image/png": "[encoded data removed]",
      "text/plain": [
       "<Figure size 640x480 with 1 Axes>"
      ]
     },
     "metadata": {},
     "output_type": "display_data"
    }
   ],
   "source": [
    "nx.draw(G, with_labels=True) "
   ]
  },
  {
   "cell_type": "code",
   "execution_count": null,
   "id": "c803b48a",
   "metadata": {},
   "outputs": [],
   "source": []
  },
  {
   "cell_type": "code",
   "execution_count": null,
   "id": "ed58398e",
   "metadata": {},
   "outputs": [],
   "source": []
  },
  {
   "cell_type": "code",
   "execution_count": null,
   "id": "f67890a0",
   "metadata": {},
   "outputs": [],
   "source": []
  }
 ],
 "metadata": {
  "kernelspec": {
   "display_name": "Python 3 (ipykernel)",
   "language": "python",
   "name": "python3"
  },
  "language_info": {
   "codemirror_mode": {
    "name": "ipython",
    "version": 3
   },
   "file_extension": ".py",
   "mimetype": "text/x-python",
   "name": "python",
   "nbconvert_exporter": "python",
   "pygments_lexer": "ipython3",
   "version": "3.11.5"
  }
 },
 "nbformat": 4,
 "nbformat_minor": 5
}
