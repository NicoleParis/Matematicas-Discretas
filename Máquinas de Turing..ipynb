{
 "cells": [
  {
   "cell_type": "markdown",
   "id": "45346fc5",
   "metadata": {},
   "source": [
    "# MAQUINAS DE TURING\n",
    "<img src=https://www.ellitoral.com/images/2023/05/11/Klmqnm6CD_1300x655__1.jpg>\n"
   ]
  },
  {
   "cell_type": "markdown",
   "id": "26eea4b2",
   "metadata": {},
   "source": [
    "Este notebook implementa un simulador simple de una Máquina de Turing. \n",
    "\n",
    "Una Máquina de Turing es un modelo matemático de computación que define una máquina abstracta que manipula símbolos en una cinta según una tabla de reglas. \n",
    "\n",
    "A pesar de su simplicidad, una Máquina de Turing puede adaptarse para simular la lógica de cualquier algoritmo de computadora."
   ]
  },
  {
   "cell_type": "markdown",
   "id": "be1cb66a",
   "metadata": {},
   "source": [
    "### Implementación"
   ]
  },
  {
   "cell_type": "code",
   "execution_count": null,
   "id": "caad0c5b",
   "metadata": {},
   "outputs": [],
   "source": [
    "from collections import defaultdict\n",
    "\n",
    "class TuringMachine:\n",
    "    def _init_(self, tape=\"\", blank_symbol=\" \", initial_state=\"\", final_states=None, transition_function=None):"
   ]
  },
  {
   "cell_type": "markdown",
   "id": "8ee7e17d",
   "metadata": {},
   "source": [
    "## Inicializa la máquina de Turing con los parámetros dados.\n",
    "\n",
    "Args:\n",
    "\n",
    "tape (str): La cinta inicial de la máquina de Turing.\n",
    "\n",
    "blank_symbol (str): El símbolo en blanco.\n",
    "\n",
    "initial_state (str): El estado inicial de la máquina.\n",
    "\n",
    "final_states (set): Un conjunto de estados finales de la máquina.\n",
    "\n",
    "transition_function (dict): La función de transición de la máquina."
   ]
  },
  {
   "cell_type": "code",
   "execution_count": 39,
   "id": "e2b529ca",
   "metadata": {},
   "outputs": [],
   "source": [
    "self.tape = defaultdict(lambda: blank_symbol, enumerate(tape))\n",
    "        self.blank_symbol = blank_symbol\n",
    "        self.head_position = 0\n",
    "        self.current_state = initial_state\n",
    "        self.final_states = final_states if final_states is not None else set()\n",
    "        self.transition_function = transition_function if transition_function is not None else {}\n",
    "\n",
    "    def get_tape_contents(self):"
   ]
  },
  {
   "cell_type": "markdown",
   "id": "f736c8cf",
   "metadata": {},
   "source": [
    "## Obtiene el contenido actual de la cinta.\n",
    "\n",
    "Returns:\n",
    "\n",
    "str: El contenido de la cinta."
   ]
  },
  {
   "cell_type": "code",
   "execution_count": 40,
   "id": "ef74b32d",
   "metadata": {},
   "outputs": [],
   "source": [
    "min_used_index = min(self.tape.keys())\n",
    "        max_used_index = max(self.tape.keys())\n",
    "        return \"\".join(self.tape[i] for i in range(min_used_index, max_used_index + 1))\n",
    "\n",
    "    def step(self):"
   ]
  },
  {
   "cell_type": "markdown",
   "id": "7cd48291",
   "metadata": {},
   "source": [
    "## Realiza un paso de la máquina de Turing según la función de transición.\n",
    "\n",
    "Returns:\n",
    "\n",
    "bool: True si la transición es válida, False si no hay transición válida."
   ]
  },
  {
   "cell_type": "code",
   "execution_count": 42,
   "id": "d4c16ed6",
   "metadata": {},
   "outputs": [],
   "source": [
    "current_symbol = self.tape[self.head_position]\n",
    "        action = self.transition_function.get((self.current_state, current_symbol))\n",
    "\n",
    "        if action is None:\n",
    "            return False  # No hay transición válida\n",
    "\n",
    "        new_state, new_symbol, direction = action\n",
    "        self.tape[self.head_position] = new_symbol\n",
    "        self.current_state = new_state\n",
    "        if direction == 'R':\n",
    "            self.head_position += 1\n",
    "        elif direction == 'L':\n",
    "            self.head_position -= 1\n",
    "\n",
    "        return True\n",
    "\n",
    "    def run(self, max_steps=1000):"
   ]
  },
  {
   "cell_type": "markdown",
   "id": "7cb5f026",
   "metadata": {},
   "source": [
    "## Ejecuta la máquina de Turing hasta alcanzar un estado final o un número máximo de pasos.\n",
    "\n",
    "Args:\n",
    "\n",
    "max_steps (int): El número máximo de pasos para ejecutar la máquina.\n",
    "\n",
    "Returns:\n",
    "\n",
    "str: El contenido de la cinta después de ejecutar la máquina."
   ]
  },
  {
   "cell_type": "code",
   "execution_count": 9,
   "id": "7aaff54c",
   "metadata": {},
   "outputs": [],
   "source": [
    "steps = 0\n",
    "        while self.current_state not in self.final_states and steps < max_steps:\n",
    "            if not self.step():\n",
    "                break\n",
    "            steps += 1\n",
    "        return self.get_tape_contents()"
   ]
  },
  {
   "cell_type": "markdown",
   "id": "2cea19c3",
   "metadata": {},
   "source": [
    "# Ejemplo de uso \n",
    "\n",
    "Definimos la función de transición para una máquina de Turing que incrementa un número binario en 1.\n",
    "\n",
    "Estados: \"q0\" (inicial), \"q1\" (acarreo), \"qf\" (final)\n",
    "\n",
    "Alfabeto: \"0\", \"1\"\n",
    "\n",
    "Símbolo en blanco: \" \"\n",
    "\n",
    "Transiciones:\n",
    "\n",
    "(q0, 0) -> (qf, 1, R)\n",
    "\n",
    "(q0, 1) -> (q1, 0, L)\n",
    "\n",
    "(q1, 0) -> (qf, 1, R)\n",
    "\n",
    "(q1, 1) -> (q1, 0, L)\n",
    "\n",
    "(q1, ' ') -> (qf, 1, R)"
   ]
  },
  {
   "cell_type": "code",
   "execution_count": 47,
   "id": "11873195",
   "metadata": {},
   "outputs": [],
   "source": [
    "transition_function = {\n",
    "    (\"q0\", \"0\"): (\"qf\", \"1\", \"R\"),\n",
    "    (\"q0\", \"1\"): (\"q1\", \"0\", \"L\"),\n",
    "    (\"q1\", \"0\"): (\"qf\", \"1\", \"R\"),\n",
    "    (\"q1\", \"1\"): (\"q1\", \"0\", \"L\"),\n",
    "    (\"q1\", \" \"): (\"qf\", \"1\", \"R\")\n",
    "}"
   ]
  },
  {
   "cell_type": "markdown",
   "id": "478364a3",
   "metadata": {},
   "source": [
    "### Inicializamos la máquina de Turing"
   ]
  },
  {
   "cell_type": "code",
   "execution_count": 11,
   "id": "0791ecae",
   "metadata": {},
   "outputs": [],
   "source": [
    "tape = \"1101\" \n",
    "initial_state = \"q0\"\n",
    "final_states = {\"qf\"}\n",
    "\n",
    "tm = TuringMachine(tape=tape, blank_symbol=\" \", initial_state=initial_state, final_states=final_states, transition_function=transition_function)"
   ]
  },
  {
   "cell_type": "markdown",
   "id": "7f198359",
   "metadata": {},
   "source": [
    "### Ejecutamos la máquina de Turing"
   ]
  },
  {
   "cell_type": "code",
   "execution_count": 26,
   "id": "10bd616d",
   "metadata": {},
   "outputs": [],
   "source": [
    "result = tm.run()\n",
    "\n",
    "print(f\"Cinta inicial: {tape}\")\n",
    "print(f\"Cinta final: {result}\")"
   ]
  },
  {
   "cell_type": "markdown",
   "id": "b7112e47",
   "metadata": {},
   "source": [
    "Este notebook proporciona una implementación básica de una máquina de Turing.\n",
    "\n",
    "Con esta implementación, se puede simular el comportamiento de una máquina de Turing y observar cómo se transforma la cinta de entrada a través de una serie de transiciones definidas."
   ]
  }
 ],
 "metadata": {
  "kernelspec": {
   "display_name": "Python 3 (ipykernel)",
   "language": "python",
   "name": "python3"
  },
  "language_info": {
   "codemirror_mode": {
    "name": "ipython",
    "version": 3
   },
   "file_extension": ".py",
   "mimetype": "text/x-python",
   "name": "python",
   "nbconvert_exporter": "python",
   "pygments_lexer": "ipython3",
   "version": "3.11.5"
  }
 },
 "nbformat": 4,
 "nbformat_minor": 5
}
